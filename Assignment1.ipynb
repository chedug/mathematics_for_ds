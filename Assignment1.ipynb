{
  "nbformat": 4,
  "nbformat_minor": 0,
  "metadata": {
    "colab": {
      "provenance": []
    },
    "kernelspec": {
      "name": "python3",
      "display_name": "Python 3"
    },
    "language_info": {
      "name": "python"
    }
  },
  "cells": [
    {
      "cell_type": "markdown",
      "source": [
        "# Assignment 1\n"
      ],
      "metadata": {
        "id": "jiohhqCXuYIM"
      }
    },
    {
      "cell_type": "markdown",
      "source": [
        "## Task 1\n",
        "\n",
        "The quality control department examines all the products returned to a store by customers. An examination of the returned products yields the following assessment:\n",
        "\n",
        "- **5%** are defective and not repairable.\n",
        "- **45%** are defective but repairable.\n",
        "- **35%** have small surface scratches but are functioning properly.\n",
        "- **15%** have no problems.\n",
        "\n",
        "Compute the following probabilities for a random sample of 20 returned products:\n",
        "\n",
        "1. **All of the 20 returned products have some type of problem.**\n",
        "2. **Exactly 6 of the 20 returned products are defective and not repairable.**\n",
        "3. **Of the 20 returned products, 6 or more are defective and not functioning properly.**\n",
        "4. **None of the 20 returned products has any sort of defect.**\n"
      ],
      "metadata": {
        "id": "G90TszDIud6r"
      }
    },
    {
      "cell_type": "markdown",
      "source": [
        "1. **(a) All of the 20 returned products have some type of problem.**\n",
        "\n",
        "To compute the probability that all 20 return with some type of problem, we first compute the probability that a product has has some type of problem. The probability that a product has no problems is given, it's $15 \\%$, or $0.15$, therefore probability that one product has any kind of problem is  $1-0.15=0.75$.\n",
        "\n",
        " Let's $X_i$ be independent identically distributed variables, where $X_i$ is the outcome of $i$-th product and defined as:\n",
        "\n",
        " $$\n",
        "X_i =\n",
        "\\begin{cases}\n",
        "1 & \\text{if the \\( i \\)-th product has some type of problem}, \\\\\n",
        "0 & \\text{if the \\( i \\)-th product has no problems}.\n",
        "\\end{cases}\n",
        "$$\n",
        "\n",
        "\n",
        "$\\mathbb{P}(X_i=1)=0.75$, as we calculated above. Probability that all of the 20 retured products have some type of problem is then $$\\mathbb{P}(X_1=1,X_2=1,..,X_{20}=1)\\overset{\\text{i.i.d}}{=}\\prod_{i=1}^{20} \\mathbb{P}(X_i=1)=0.75^{20}$$\n",
        "\n",
        "---\n",
        "\n",
        "2. **(b) Exactly 6 of the 20 returned products are defective and not repairable.**\n",
        "\n",
        "\n",
        "To compute this probability, we note that $5\\%$ or $0.05$ of products are defective and not repairable. Let $ Y_i $ be independent and identically distributed variables, where $Y_i$ is the outcome of the $i$-th product and defined as:\n",
        "\n",
        "$$\n",
        "Y_i =\n",
        "\\begin{cases}\n",
        "1 & \\text{if the \\( i \\)-th product is defective and not repairable}, \\\\\n",
        "0 & \\text{otherwise}.\n",
        "\\end{cases}\n",
        "$$\n",
        "\n",
        "The probability of $Y_i = 1$ is given as $ \\mathbb{P}(Y_i = 1) = 0.05 $, and the probability of $ Y_i = 0 $ is $ \\mathbb{P}(Y_i = 0) = 0.95 $.\n",
        "\n",
        "The total number of defective and not repairable products, $ S = \\sum_{i=1}^{20} Y_i $, follows a binomial distribution:\n",
        "$$\n",
        "S \\sim \\text{Binomial}(n=20, p=0.05).\n",
        "$$\n",
        "\n",
        "The probability of exactly 6 defective and not repairable products is:\n",
        "$$\n",
        "\\mathbb{P}(S = 6) = \\binom{20}{6} (0.05)^6 (0.95)^{14}.\n",
        "$$\n",
        "\n",
        "---\n",
        "\n",
        "\n",
        "3. **(c) Of the 20 returned products, 6 or more are defective and not functioning properly.**\n",
        "\n",
        "To compute this, we first note that \"defective and not functioning properly\" includes both defective and not repairable ($ 5\\% $) and defective but repairable ($ 45\\% $). Therefore, the probability of a product being defective and not functioning properly is:\n",
        "$$\n",
        "p = 0.05 + 0.45 = 0.50.\n",
        "$$\n",
        "\n",
        "Let $ Z_i $ be independent and identically distributed variables, where $ Z_i $ is the outcome of the $ i $-th product and defined as:\n",
        "\n",
        "$$\n",
        "Z_i =\n",
        "\\begin{cases}\n",
        "1 & \\text{if the \\( i \\)-th is defective and not functioning}, \\\\\n",
        "0 & \\text{otherwise}.\n",
        "\\end{cases}\n",
        "$$\n",
        "\n",
        "The probability of $ Z_i = 1$ is $ \\mathbb{P}(Z_i = 1) = 0.50 $.\n",
        "\n",
        "The total number of defective and not functioning products, $ T = \\sum_{i=1}^{20} Z_i $, follows a binomial distribution:\n",
        "$$\n",
        "T \\sim \\text{Binomial}(n=20, p=0.50).\n",
        "$$\n",
        "\n",
        "The probability of 6 or more defective products is:\n",
        "$$\n",
        "\\mathbb{P}(T \\geq 6) = 1 - \\mathbb{P}(T \\leq 5),\n",
        "$$\n",
        "\n",
        "$$\n",
        "\\begin{align}\n",
        "\\mathbb{P}(T \\leq 5) &= \\sum_{i=0}^5 \\binom{20}{i} \\left(\\frac{1}{2}\\right)^i \\left(\\frac{1}{2}\\right)^{20-i} \\\\\n",
        "&= \\left(\\frac{1}{2}\\right)^{20} \\sum_{i=0}^5 \\binom{20}{i} \\\\\n",
        "&= \\left(\\frac{1}{2}\\right)^{20} \\left(\\binom{20}{0} + \\binom{20}{1} + \\binom{20}{2} + \\binom{20}{3} + \\binom{20}{4} + \\binom{20}{5}\\right) \\\\\n",
        "&= \\left(\\frac{1}{2}\\right)^{20} (1 + 20 + \\frac{19⋅20}{2}+ \\frac{18⋅19⋅20}{6}+\\frac{17⋅18⋅19⋅20}{24}+\\frac{16⋅17⋅18⋅19⋅20}{120}) \\\\\n",
        "&≈ 0.02069473266 \\\\\n",
        "& ⇒   \\mathbb{P}(T \\geq 6) ≈ 0.97930526734\n",
        "\\end{align}\n",
        "$$\n",
        "\n",
        "\n",
        "---\n",
        "\n",
        "4. **(d) None of the 20 returned products has any sort of defect.**\n",
        "\n",
        "To compute this, we note that \"no sort of defect\" corresponds to products that are completely problem-free, which is given as $ 15\\% $, or $ 0.15 $.\n",
        "\n",
        "Let $ W_i $ be independent and identically distributed variables, where $ W_i $ is the outcome of the $ i $-th product and defined as:\n",
        "\n",
        "$$\n",
        "W_i =\n",
        "\\begin{cases}\n",
        "1 & \\text{if the \\( i \\)-th product has no problems}, \\\\\n",
        "0 & \\text{if the \\( i \\)-th product has some type of problem}.\n",
        "\\end{cases}\n",
        "$$\n",
        "\n",
        "The probability of $ W_i = 1 $ is $ \\mathbb{P}(W_i = 1) = 0.15 $.\n",
        "\n",
        "The probability that none of the 20 products has any sort of defect is:\n",
        "$$\n",
        "\\mathbb{P}(W_1 = 1, W_2 = 1, \\dots, W_{20} = 1) \\overset{\\text{i.i.d}}{=} \\prod_{i=1}^{20} \\mathbb{P}(W_i = 1) = 0.15^{20}.\n",
        "$$\n",
        "\n"
      ],
      "metadata": {
        "id": "59-CNx0BvJff"
      }
    },
    {
      "cell_type": "markdown",
      "source": [
        "## Task 2\n",
        "\n",
        "Find the sum of the series, with a given $\\epsilon = 0.001$\n",
        "\n",
        "$$\n",
        "\\sum_{n=2}^\\infty \\frac{(-1)^n}{n \\ln \\sqrt{n}}\n",
        "$$"
      ],
      "metadata": {
        "id": "N4VLHS9I5K0y"
      }
    },
    {
      "cell_type": "code",
      "execution_count": 39,
      "metadata": {
        "colab": {
          "base_uri": "https://localhost:8080/"
        },
        "id": "XdL4IFGPuMbH",
        "outputId": "1f90a7b9-0962-4f12-9807-acc674ea2ddf"
      },
      "outputs": [
        {
          "output_type": "stream",
          "name": "stdout",
          "text": [
            "Program finished its execution in 623 iterations\n",
            "Series sum calculated as 1.0531\n"
          ]
        }
      ],
      "source": [
        "import numpy as np\n",
        "import math\n",
        "\n",
        "epsilon = 0.001\n",
        "n=2\n",
        "\n",
        "def a(n):\n",
        "  \"\"\"Returns n-th term of series a_n\"\"\"\n",
        "  term_a = (-1)**n / (n*np.log(np.sqrt(n)))\n",
        "  return term_a\n",
        "\n",
        "prev = a(n)\n",
        "series = a(n)\n",
        "\n",
        "\n",
        "while True:\n",
        "  n += 1\n",
        "  curr = a(n)\n",
        "  if abs(curr-prev) < epsilon:\n",
        "    break\n",
        "  series += curr\n",
        "  prev = curr\n",
        "\n",
        "\n",
        "print(f\"Program finished its execution in {n} iterations\")\n",
        "print(f\"Series sum calculated as {series:.4f}\")\n",
        "\n",
        "\n"
      ]
    }
  ]
}